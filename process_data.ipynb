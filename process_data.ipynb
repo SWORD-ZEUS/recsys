{
 "cells": [
  {
   "cell_type": "code",
   "execution_count": 2,
   "metadata": {},
   "outputs": [
    {
     "name": "stderr",
     "output_type": "stream",
     "text": [
      "/tmp/ipykernel_10583/510288818.py:22: SettingWithCopyWarning: \n",
      "A value is trying to be set on a copy of a slice from a DataFrame\n",
      "\n",
      "See the caveats in the documentation: https://pandas.pydata.org/pandas-docs/stable/user_guide/indexing.html#returning-a-view-versus-a-copy\n",
      "  final_df.dropna(inplace=True)\n"
     ]
    }
   ],
   "source": [
    "import pandas as pd\n",
    "import os\n",
    "# 读取三个 Excel 文件\n",
    "dir = \"/storage/zhuangkai/data/recsys/ml-latest-small\"\n",
    "save_path = \"/storage/zhuangkai/data/recsys/ml-latest-small/merged_data.csv\"\n",
    "ratings_path = os.path.join(dir, \"ratings.csv\")\n",
    "movies_path = os.path.join(dir, \"movies.csv\")\n",
    "tags_path = os.path.join(dir, \"tags.csv\")\n",
    "\n",
    "ratings_df = pd.read_csv(ratings_path)  # 假设文件名为 ratings.xlsx\n",
    "movies_df = pd.read_csv(movies_path)    # 假设文件名为 movies.xlsx\n",
    "tags_df = pd.read_csv(tags_path)        # 假设文件名为 tags.xlsx\n",
    "\n",
    "# 合并数据\n",
    "merged_df = pd.merge(ratings_df, movies_df, on='movieId', how='inner')\n",
    "merged_df = pd.merge(merged_df, tags_df, on=['userId', 'movieId'], how='inner')\n",
    "\n",
    "# 选择所需的列\n",
    "final_df = merged_df[['userId', 'movieId', 'rating', 'tag', 'title', 'genres']]\n",
    "\n",
    "# 删除缺失值的行\n",
    "final_df.dropna(inplace=True)\n",
    "\n",
    "# 保存合并后的 DataFrame 到新的 Excel 文件\n",
    "final_df.to_csv(save_path, index=False)\n"
   ]
  },
  {
   "cell_type": "code",
   "execution_count": 2,
   "metadata": {},
   "outputs": [
    {
     "name": "stdout",
     "output_type": "stream",
     "text": [
      "rating\n",
      "4.0    26818\n",
      "3.0    20047\n",
      "5.0    13211\n",
      "3.5    13136\n",
      "4.5     8551\n",
      "2.0     7551\n",
      "2.5     5550\n",
      "1.0     2811\n",
      "1.5     1791\n",
      "0.5     1370\n",
      "Name: count, dtype: int64\n"
     ]
    }
   ],
   "source": [
    "#查看rating分布\n",
    "import pandas as pd\n",
    "import os\n",
    "\n",
    "dir = \"/storage/zhuangkai/data/recsys/ml-latest-small\"\n",
    "ratings_path = os.path.join(dir, \"ratings.csv\")\n",
    "ratings_df = pd.read_csv(ratings_path)\n",
    "print(ratings_df['rating'].value_counts())"
   ]
  }
 ],
 "metadata": {
  "kernelspec": {
   "display_name": "openo1",
   "language": "python",
   "name": "python3"
  },
  "language_info": {
   "codemirror_mode": {
    "name": "ipython",
    "version": 3
   },
   "file_extension": ".py",
   "mimetype": "text/x-python",
   "name": "python",
   "nbconvert_exporter": "python",
   "pygments_lexer": "ipython3",
   "version": "3.9.20"
  }
 },
 "nbformat": 4,
 "nbformat_minor": 2
}
